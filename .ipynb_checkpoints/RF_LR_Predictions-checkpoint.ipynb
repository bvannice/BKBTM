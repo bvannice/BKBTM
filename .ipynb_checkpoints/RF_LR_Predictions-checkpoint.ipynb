{
 "cells": [
  {
   "cell_type": "code",
   "execution_count": null,
   "metadata": {},
   "outputs": [],
   "source": [
    "import numpy as np\n",
    "import pandas as pd\n",
    "import matplotlib.pyplot as plt\n",
    "import ast"
   ]
  },
  {
   "cell_type": "code",
   "execution_count": null,
   "metadata": {},
   "outputs": [],
   "source": [
    "# Read in train csv\n",
    "df = pd.read_csv(\"Resources/train.csv\")"
   ]
  },
  {
   "cell_type": "code",
   "execution_count": null,
   "metadata": {},
   "outputs": [],
   "source": [
    "df.head()"
   ]
  },
  {
   "cell_type": "code",
   "execution_count": null,
   "metadata": {},
   "outputs": [],
   "source": [
    "df.info()"
   ]
  },
  {
   "cell_type": "code",
   "execution_count": null,
   "metadata": {},
   "outputs": [],
   "source": [
    "#Fill blank runtime entries with zero value\n",
    "df[\"runtime\"]=df[\"runtime\"].fillna(0)"
   ]
  },
  {
   "cell_type": "code",
   "execution_count": null,
   "metadata": {},
   "outputs": [],
   "source": [
    "df['original_language'] = [1 if x == 'en' else 0 for x in df['original_language']]"
   ]
  },
  {
   "cell_type": "code",
   "execution_count": null,
   "metadata": {},
   "outputs": [],
   "source": [
    "df.info()"
   ]
  },
  {
   "cell_type": "code",
   "execution_count": null,
   "metadata": {},
   "outputs": [],
   "source": [
    "# Change homepage and belongs_to_collection columns to yes or no format\n",
    "df.loc[df[\"homepage\"].notnull(),\"homepage\"]=1\n",
    "df[\"homepage\"]=df[\"homepage\"].fillna(0)\n",
    "\n",
    "df.loc[df[\"belongs_to_collection\"].notnull(),\"belongs_to_collection\"]=1\n",
    "df[\"belongs_to_collection\"]=df[\"belongs_to_collection\"].fillna(0)"
   ]
  },
  {
   "cell_type": "code",
   "execution_count": null,
   "metadata": {},
   "outputs": [],
   "source": [
    "# Add column whether the movie has a tagline or not\n",
    "df[\"Has_tagline\"]=1\n",
    "df.loc[df[\"tagline\"].isnull(), \"Has_tagline\"]=0"
   ]
  },
  {
   "cell_type": "code",
   "execution_count": null,
   "metadata": {},
   "outputs": [],
   "source": [
    "# create variable for columns needing unpacked from json object\n",
    "need_strings=[\"genres\", \n",
    "              \"production_companies\", \n",
    "              \"production_countries\"]"
   ]
  },
  {
   "cell_type": "code",
   "execution_count": null,
   "metadata": {},
   "outputs": [],
   "source": [
    "# for loop to pull out just the name id values from the json columns\n",
    "for string in need_strings:\n",
    "    df.loc[df[string].notnull(),string]=\\\n",
    "    df.loc[df[string].notnull(),string]\\\n",
    "    .apply(lambda x : ast.literal_eval(x))\\\n",
    "    .apply(lambda x : [y[\"name\"] for y in x])"
   ]
  },
  {
   "cell_type": "code",
   "execution_count": null,
   "metadata": {},
   "outputs": [],
   "source": [
    "# formatting cast and crew columns to count the arrays in the column\n",
    "df.loc[df[\"cast\"].notnull(),\"cast\"]=df.loc[df[\"cast\"].notnull(),\"cast\"].apply(lambda x : ast.literal_eval(x))\n",
    "df.loc[df[\"crew\"].notnull(),\"crew\"]=df.loc[df[\"crew\"].notnull(),\"crew\"].apply(lambda x : ast.literal_eval(x))\n",
    "\n",
    "# create new columns with the count of cast and crew members\n",
    "df[\"cast_count\"] = df.loc[df[\"cast\"].notnull(),\"cast\"].apply(lambda x : len(x))\n",
    "df[\"crew_count\"] = df.loc[df[\"crew\"].notnull(),\"crew\"].apply(lambda x : len(x))"
   ]
  },
  {
   "cell_type": "code",
   "execution_count": null,
   "metadata": {},
   "outputs": [],
   "source": [
    "#Fill empty rows with 0\n",
    "df[\"genres\"]=df[\"genres\"].fillna(0)\n",
    "df.head()\n",
    "\n",
    "df[\"cast_count\"]=df[\"cast_count\"].fillna(0)\n",
    "df.head()\n",
    "\n",
    "df[\"crew_count\"]=df[\"crew_count\"].fillna(0)\n",
    "df.head()\n"
   ]
  },
  {
   "cell_type": "code",
   "execution_count": null,
   "metadata": {},
   "outputs": [],
   "source": [
    "#Use get dummies to change genres into 0s and 1s and merge to original dataframe\n",
    "df=pd.get_dummies(df['genres'].apply(pd.Series).stack()).sum(level=0).merge(df, left_index=True, right_index=True)\n",
    "df.head()"
   ]
  },
  {
   "cell_type": "code",
   "execution_count": null,
   "metadata": {},
   "outputs": [],
   "source": [
    "df.info()"
   ]
  },
  {
   "cell_type": "code",
   "execution_count": null,
   "metadata": {
    "scrolled": true
   },
   "outputs": [],
   "source": [
    "# create X and y variables for random forest regressor\n",
    "X=df[[\"Action\",\n",
    "      \"Adventure\",\n",
    "      \"Animation\",\n",
    "      \"Comedy\",\n",
    "      \"Crime\",\n",
    "      \"Documentary\",\n",
    "      \"Drama\",\n",
    "      \"Family\",\n",
    "      \"Fantasy\",\n",
    "      \"Foreign\",\n",
    "      \"History\",\n",
    "      \"Horror\",\n",
    "      \"Music\",\n",
    "      \"Mystery\",\n",
    "      \"Romance\",\n",
    "      \"Science Fiction\",\n",
    "      \"Thriller\",\n",
    "      \"TV Movie\",\n",
    "      \"War\",\n",
    "      \"Western\",\n",
    "      \"budget\",\n",
    "      \"popularity\",\n",
    "      \"runtime\",\n",
    "      \"original_language\",\n",
    "      \"homepage\",\n",
    "      \"Has_tagline\",\n",
    "      \"belongs_to_collection\",\n",
    "      \"cast_count\",\n",
    "      \"crew_count\"]]\n",
    "print(X.head())"
   ]
  },
  {
   "cell_type": "code",
   "execution_count": null,
   "metadata": {},
   "outputs": [],
   "source": [
    "y = df[\"revenue\"]\n"
   ]
  },
  {
   "cell_type": "code",
   "execution_count": null,
   "metadata": {},
   "outputs": [],
   "source": [
    "# check the shape of the X and y\n",
    "print(X.shape, y.shape)"
   ]
  },
  {
   "cell_type": "code",
   "execution_count": null,
   "metadata": {},
   "outputs": [],
   "source": [
    "from sklearn.preprocessing import StandardScaler\n",
    "scaler = StandardScaler().fit(X)\n",
    "X = scaler.transform(X)"
   ]
  },
  {
   "cell_type": "code",
   "execution_count": null,
   "metadata": {},
   "outputs": [],
   "source": [
    "#Train, test, split the train dataset\n",
    "from sklearn.model_selection import train_test_split\n",
    "X_train, X_test, y_train, y_test = train_test_split(X, y)"
   ]
  },
  {
   "cell_type": "code",
   "execution_count": null,
   "metadata": {},
   "outputs": [],
   "source": [
    "#Import RandomForest Regressor\n",
    "from sklearn.ensemble import RandomForestRegressor\n",
    "\n",
    "rf = RandomForestRegressor(n_estimators=200, n_jobs=1)\n",
    "rf = rf.fit(X_train, y_train)\n"
   ]
  },
  {
   "cell_type": "code",
   "execution_count": null,
   "metadata": {},
   "outputs": [],
   "source": [
    "# Check score of random forest\n",
    "rf.score(X_test, y_test)"
   ]
  },
  {
   "cell_type": "code",
   "execution_count": null,
   "metadata": {},
   "outputs": [],
   "source": [
    "# Random Forests in sklearn will automatically calculate feature importance\n",
    "importances = rf.feature_importances_\n",
    "importances"
   ]
  },
  {
   "cell_type": "code",
   "execution_count": null,
   "metadata": {},
   "outputs": [],
   "source": [
    "#Import Linear Regression model\n",
    "from sklearn import linear_model\n",
    "model = linear_model.LinearRegression()"
   ]
  },
  {
   "cell_type": "code",
   "execution_count": null,
   "metadata": {},
   "outputs": [],
   "source": [
    "x = df[[\"budget\"]]\n"
   ]
  },
  {
   "cell_type": "code",
   "execution_count": null,
   "metadata": {},
   "outputs": [],
   "source": [
    "x_train, x_test, y_train, y_test = train_test_split(x, y)"
   ]
  },
  {
   "cell_type": "code",
   "execution_count": null,
   "metadata": {},
   "outputs": [],
   "source": [
    "print(x.shape, y.shape)"
   ]
  },
  {
   "cell_type": "code",
   "execution_count": null,
   "metadata": {},
   "outputs": [],
   "source": [
    "#fit and score the data\n",
    "model.fit(x_train,y_train)\n",
    "model.score(x_test,y_test)"
   ]
  },
  {
   "cell_type": "code",
   "execution_count": null,
   "metadata": {},
   "outputs": [],
   "source": [
    "# check predictions against actual revenue for random forest\n",
    "predict = rf.predict(X_test)\n",
    "pd.DataFrame({\"Prediction\": predict.astype(int), \"Actual\": y_test})"
   ]
  },
  {
   "cell_type": "code",
   "execution_count": null,
   "metadata": {},
   "outputs": [],
   "source": [
    "#read in test csv file\n",
    "test = pd.read_csv(\"Resources/test.csv\")\n",
    "test.head()"
   ]
  },
  {
   "cell_type": "code",
   "execution_count": null,
   "metadata": {},
   "outputs": [],
   "source": [
    "#Fill blank runtime entries with zero value\n",
    "test[\"runtime\"]=test[\"runtime\"].fillna(0)\n",
    "\n",
    "# Change original language to if english or not\n",
    "test['original_language'] = [1 if x == 'en' else 0 for x in test['original_language']]\n",
    "\n",
    "# Change homepage column to yes or no format\n",
    "test.loc[test[\"homepage\"].notnull(),\"homepage\"]=1\n",
    "test[\"homepage\"]=test[\"homepage\"].fillna(0)\n",
    "\n",
    "# Add column whether the movie has a tagline or not\n",
    "test[\"Has_tagline\"]=1\n",
    "test.loc[test[\"tagline\"].isnull(), \"Has_tagline\"]=0\n",
    "\n",
    "# Change belongs_to_collection to yes or no format\n",
    "test.loc[test[\"belongs_to_collection\"].notnull(),\"belongs_to_collection\"]=1\n",
    "test[\"belongs_to_collection\"]=test[\"belongs_to_collection\"].fillna(0)\n",
    "\n"
   ]
  },
  {
   "cell_type": "code",
   "execution_count": null,
   "metadata": {},
   "outputs": [],
   "source": [
    "need_strings=[\"genres\", \n",
    "              \"production_companies\", \n",
    "              \"production_countries\"]"
   ]
  },
  {
   "cell_type": "code",
   "execution_count": null,
   "metadata": {},
   "outputs": [],
   "source": [
    "for string in need_strings:\n",
    "    test.loc[test[string].notnull(),string]=\\\n",
    "    test.loc[test[string].notnull(),string]\\\n",
    "    .apply(lambda x : ast.literal_eval(x))\\\n",
    "    .apply(lambda x : [y[\"name\"] for y in x])"
   ]
  },
  {
   "cell_type": "code",
   "execution_count": null,
   "metadata": {},
   "outputs": [],
   "source": [
    "test.loc[test[\"cast\"].notnull(),\"cast\"]=test.loc[test[\"cast\"].notnull(),\"cast\"].apply(lambda x : ast.literal_eval(x))\n",
    "test.loc[test[\"crew\"].notnull(),\"crew\"]=test.loc[test[\"crew\"].notnull(),\"crew\"].apply(lambda x : ast.literal_eval(x))\n",
    "\n",
    "test[\"cast_count\"] = test.loc[test[\"cast\"].notnull(),\"cast\"].apply(lambda x : len(x))\n",
    "test[\"crew_count\"] = test.loc[test[\"crew\"].notnull(),\"crew\"].apply(lambda x : len(x))"
   ]
  },
  {
   "cell_type": "code",
   "execution_count": null,
   "metadata": {},
   "outputs": [],
   "source": [
    "# fill rows with blanks to 0s\n",
    "test[\"genres\"]=test[\"genres\"].fillna(0)\n",
    "test.head()\n",
    "\n",
    "test[\"cast_count\"]=test[\"cast_count\"].fillna(0)\n",
    "test.head()\n",
    "\n",
    "test[\"crew_count\"]=test[\"crew_count\"].fillna(0)\n",
    "test.head()"
   ]
  },
  {
   "cell_type": "code",
   "execution_count": null,
   "metadata": {},
   "outputs": [],
   "source": [
    "# Use get dummies to change genres to 0s and 1s and merge to test dataframe\n",
    "test=pd.get_dummies(test['genres'].apply(pd.Series).stack()).sum(level=0).merge(test, left_index=True, right_index=True)\n",
    "test.head()"
   ]
  },
  {
   "cell_type": "code",
   "execution_count": null,
   "metadata": {},
   "outputs": [],
   "source": [
    "#test CSV did not have any TV Movie genres so added an empty column\n",
    "test[\"TV Movie\"]=0"
   ]
  },
  {
   "cell_type": "code",
   "execution_count": null,
   "metadata": {},
   "outputs": [],
   "source": [
    "# create x and y variables as features and target for test dataframe\n",
    "features=test[[\"Action\",\n",
    "      \"Adventure\",\n",
    "      \"Animation\",\n",
    "      \"Comedy\",\n",
    "      \"Crime\",\n",
    "      \"Documentary\",\n",
    "      \"Drama\",\n",
    "      \"Family\",\n",
    "      \"Fantasy\",\n",
    "      \"Foreign\",\n",
    "      \"History\",\n",
    "      \"Horror\",\n",
    "      \"Music\",\n",
    "      \"Mystery\",\n",
    "      \"Romance\",\n",
    "      \"Science Fiction\",\n",
    "      \"Thriller\",\n",
    "      \"TV Movie\",\n",
    "      \"War\",\n",
    "      \"Western\",\n",
    "      \"budget\",\n",
    "      \"popularity\",\n",
    "      \"runtime\",\n",
    "      \"original_language\",\n",
    "      \"homepage\",\n",
    "      \"Has_tagline\",\n",
    "      \"belongs_to_collection\",\n",
    "      \"cast_count\",\n",
    "      \"crew_count\"]]\n",
    "\n",
    "target='revenue'"
   ]
  },
  {
   "cell_type": "code",
   "execution_count": null,
   "metadata": {},
   "outputs": [],
   "source": [
    "from sklearn.preprocessing import StandardScaler\n",
    "scaler = StandardScaler().fit(features)\n",
    "features = scaler.transform(features)"
   ]
  },
  {
   "cell_type": "code",
   "execution_count": null,
   "metadata": {
    "scrolled": true
   },
   "outputs": [],
   "source": [
    "test.info()"
   ]
  },
  {
   "cell_type": "code",
   "execution_count": null,
   "metadata": {},
   "outputs": [],
   "source": [
    "# create predictions variable for linear regression\n",
    "predictions = model.predict(test[[\"budget\"]])\n",
    "predictions"
   ]
  },
  {
   "cell_type": "code",
   "execution_count": null,
   "metadata": {},
   "outputs": [],
   "source": [
    "# create predictions variable for random forest\n",
    "rf_predicts = rf.predict(features)\n",
    "rf_predicts"
   ]
  },
  {
   "cell_type": "code",
   "execution_count": null,
   "metadata": {},
   "outputs": [],
   "source": [
    "# create dataframe with predicted revenues for rf and linear regression along with movie title and id\n",
    "predict_df = pd.DataFrame()\n",
    "predict_df[\"id\"]=test[\"id\"]\n",
    "predict_df[\"title\"] = test[\"title\"]\n",
    "predict_df[\"lin_revenue\"] = predictions.astype(int)\n",
    "predict_df[\"rf_revenue\"] = rf_predicts.astype(int)"
   ]
  },
  {
   "cell_type": "code",
   "execution_count": null,
   "metadata": {},
   "outputs": [],
   "source": [
    "#sort the predictions dataframe\n",
    "predict_df = predict_df.sort_values(by=['rf_revenue'], ascending=False)\n",
    "predict_df"
   ]
  },
  {
   "cell_type": "code",
   "execution_count": null,
   "metadata": {},
   "outputs": [],
   "source": []
  },
  {
   "cell_type": "code",
   "execution_count": null,
   "metadata": {},
   "outputs": [],
   "source": []
  },
  {
   "cell_type": "code",
   "execution_count": null,
   "metadata": {},
   "outputs": [],
   "source": []
  }
 ],
 "metadata": {
  "kernelspec": {
   "display_name": "Python 3",
   "language": "python",
   "name": "python3"
  },
  "language_info": {
   "codemirror_mode": {
    "name": "ipython",
    "version": 3
   },
   "file_extension": ".py",
   "mimetype": "text/x-python",
   "name": "python",
   "nbconvert_exporter": "python",
   "pygments_lexer": "ipython3",
   "version": "3.6.5"
  }
 },
 "nbformat": 4,
 "nbformat_minor": 2
}
